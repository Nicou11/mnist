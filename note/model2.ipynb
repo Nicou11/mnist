{
 "cells": [
  {
   "cell_type": "code",
   "execution_count": 1,
   "id": "5a8d0c39-7168-4087-83f2-c253f4a7ea4f",
   "metadata": {},
   "outputs": [
    {
     "name": "stderr",
     "output_type": "stream",
     "text": [
      "2024-09-26 09:19:12.740728: I tensorflow/core/util/port.cc:153] oneDNN custom operations are on. You may see slightly different numerical results due to floating-point round-off errors from different computation orders. To turn them off, set the environment variable `TF_ENABLE_ONEDNN_OPTS=0`.\n",
      "2024-09-26 09:19:12.744846: I external/local_xla/xla/tsl/cuda/cudart_stub.cc:32] Could not find cuda drivers on your machine, GPU will not be used.\n",
      "2024-09-26 09:19:12.785463: I external/local_xla/xla/tsl/cuda/cudart_stub.cc:32] Could not find cuda drivers on your machine, GPU will not be used.\n",
      "2024-09-26 09:19:12.825060: E external/local_xla/xla/stream_executor/cuda/cuda_fft.cc:485] Unable to register cuFFT factory: Attempting to register factory for plugin cuFFT when one has already been registered\n",
      "2024-09-26 09:19:12.854527: E external/local_xla/xla/stream_executor/cuda/cuda_dnn.cc:8454] Unable to register cuDNN factory: Attempting to register factory for plugin cuDNN when one has already been registered\n",
      "2024-09-26 09:19:12.863639: E external/local_xla/xla/stream_executor/cuda/cuda_blas.cc:1452] Unable to register cuBLAS factory: Attempting to register factory for plugin cuBLAS when one has already been registered\n",
      "2024-09-26 09:19:12.914853: I tensorflow/core/platform/cpu_feature_guard.cc:210] This TensorFlow binary is optimized to use available CPU instructions in performance-critical operations.\n",
      "To enable the following instructions: AVX2 AVX512F AVX512_VNNI FMA, in other operations, rebuild TensorFlow with the appropriate compiler flags.\n",
      "2024-09-26 09:19:13.993948: W tensorflow/compiler/tf2tensorrt/utils/py_utils.cc:38] TF-TRT Warning: Could not find TensorRT\n"
     ]
    }
   ],
   "source": [
    "from keras.datasets import mnist"
   ]
  },
  {
   "cell_type": "code",
   "execution_count": 2,
   "id": "d576df7f-05ec-489c-9df7-aa034ea0cc46",
   "metadata": {},
   "outputs": [],
   "source": [
    "(x_train, y_train), (x_test, y_test) = mnist.load_data()"
   ]
  },
  {
   "cell_type": "code",
   "execution_count": 3,
   "id": "adc61d23-270b-40c5-8fd3-3f7b986f4b39",
   "metadata": {},
   "outputs": [
    {
     "data": {
      "text/plain": [
       "(60000, 28, 28)"
      ]
     },
     "execution_count": 3,
     "metadata": {},
     "output_type": "execute_result"
    }
   ],
   "source": [
    "x_train.shape"
   ]
  },
  {
   "cell_type": "code",
   "execution_count": 4,
   "id": "4b8dbcdf-a8f6-4610-bbea-7fdc5cde4920",
   "metadata": {},
   "outputs": [
    {
     "name": "stdout",
     "output_type": "stream",
     "text": [
      "x_train.shape: (60000, 28, 28)\n",
      "x_test.shape: (10000, 28, 28)\n",
      "x_train_vec.shape: (60000, 28, 28, 1)\n",
      "x_test_vec.shape: (10000, 28, 28, 1)\n"
     ]
    }
   ],
   "source": [
    "x_train_vec = x_train.reshape((60000, 28 ,28 ,1))   # 4번째 '1'은 몇가지 color를 가지고 있는지를 나타냄 (1은 흑백)\n",
    "x_test_vec = x_test.reshape((10000, 28 ,28 ,1))\n",
    "\n",
    "print(f'x_train.shape: {x_train.shape}')\n",
    "print(f'x_test.shape: {x_test.shape}')\n",
    "print(f'x_train_vec.shape: {x_train_vec.shape}')\n",
    "print(f'x_test_vec.shape: {x_test_vec.shape}')"
   ]
  },
  {
   "cell_type": "code",
   "execution_count": 5,
   "id": "ce300a74-0058-4637-865e-084c970d6281",
   "metadata": {},
   "outputs": [
    {
     "data": {
      "image/png": "[encoded data removed]",
      "text/plain": [
       "<Figure size 640x480 with 3 Axes>"
      ]
     },
     "metadata": {},
     "output_type": "display_data"
    },
    {
     "data": {
      "image/png": "[encoded data removed]",
      "text/plain": [
       "<Figure size 640x480 with 3 Axes>"
      ]
     },
     "metadata": {},
     "output_type": "display_data"
    },
    {
     "data": {
      "image/png": "[encoded data removed]",
      "text/plain": [
       "<Figure size 640x480 with 3 Axes>"
      ]
     },
     "metadata": {},
     "output_type": "display_data"
    }
   ],
   "source": [
    "import matplotlib.pyplot as plt\n",
    "import random\n",
    "\n",
    "for i in range(1, 4, 1):\n",
    "    for j in range(1, 4, 1):\n",
    "        plt.subplot(i, 4, j)\n",
    "        plt.imshow(x_train[random.randint(0,60000)], cmap=\"gray\")\n",
    "    plt.show()"
   ]
  },
  {
   "cell_type": "code",
   "execution_count": 6,
   "id": "ea124316-5871-49bc-8333-229b6db06bd6",
   "metadata": {},
   "outputs": [
    {
     "name": "stdout",
     "output_type": "stream",
     "text": [
      "y_train_vec.shape:(60000, 10)\n"
     ]
    }
   ],
   "source": [
    "# One-hot Encoding\n",
    "# 0 => [1, 0, 0, 0, 0, 0, 0, 0, 0, 0, ]\n",
    "# 1 => [0, 1, 0, 0, 0, 0, 0, 0, 0, 0, ]\n",
    "\n",
    "import numpy as np\n",
    "\n",
    "def to_one_hot(labels, dimension=10):\n",
    "    results = np.zeros((len(labels), dimension))\n",
    "    for i, label in enumerate(labels):\n",
    "        results[i, label] = 1.\n",
    "    return results\n",
    "\n",
    "y_train_vec = to_one_hot(y_train)\n",
    "y_test_vec = to_one_hot(y_test)\n",
    "\n",
    "print(f\"y_train_vec.shape:{y_train_vec.shape}\")"
   ]
  },
  {
   "cell_type": "code",
   "execution_count": 7,
   "id": "7b41c73b-ff6b-4dac-9dab-843e86b5fea0",
   "metadata": {},
   "outputs": [
    {
     "name": "stdout",
     "output_type": "stream",
     "text": [
      "9\n",
      "[0. 0. 0. 0. 0. 0. 0. 0. 0. 1.]\n"
     ]
    }
   ],
   "source": [
    "print(y_train[4])\n",
    "print(y_train_vec[4])"
   ]
  },
  {
   "cell_type": "code",
   "execution_count": 8,
   "id": "716f150b-1a42-4274-84b0-909d28a879c1",
   "metadata": {},
   "outputs": [
    {
     "name": "stdout",
     "output_type": "stream",
     "text": [
      "   0    0    0    0    0    0    0    0    0    0    0    0    0    0    0    0    0    0    0    0    0    0    0    0    0    0    0    0 \n",
      "   0    0    0    0    0    0    0    0    0    0    0    0    0    0    0    0    0    0    0    0    0    0    0    0    0    0    0    0 \n",
      "   0    0    0    0    0    0    0    0    0    0    0    0    0    0    0    0    0    0    0    0    0    0    0    0    0    0    0    0 \n",
      "   0    0    0    0    0    0    0    0    0    0    0    0    0    0    0    0    0    0    0    0    0    0    0    0    0    0    0    0 \n",
      "   0    0    0    0    0    0    0    0    0    0    0    0    0    0    0    0    0    0    0    0    0    0    0    0    0    0    0    0 \n",
      "   0    0    0    0    0    0    0    0    0    0    0    0    0    0    0    0    0    0    0    0    0    0    0    0    0    0    0    0 \n",
      "   0    0    0    0    0    0    0    0    0    0    0    0    0    0    0    0    0    0    0    0    0    0    0    0    0    0    0    0 \n",
      "   0    0    0    0    0    0    0    0    0    0    0    0   55  148  210  253  253  113   87  148   55    0    0    0    0    0    0    0 \n",
      "   0    0    0    0    0    0    0    0    0    0    0   87  232  252  253  189  210  252  252  253  168    0    0    0    0    0    0    0 \n",
      "   0    0    0    0    0    0    0    0    0    4   57  242  252  190   65    5   12  182  252  253  116    0    0    0    0    0    0    0 \n",
      "   0    0    0    0    0    0    0    0    0   96  252  252  183   14    0    0   92  252  252  225   21    0    0    0    0    0    0    0 \n",
      "   0    0    0    0    0    0    0    0  132  253  252  146   14    0    0    0  215  252  252   79    0    0    0    0    0    0    0    0 \n",
      "   0    0    0    0    0    0    0  126  253  247  176    9    0    0    8   78  245  253  129    0    0    0    0    0    0    0    0    0 \n",
      "   0    0    0    0    0    0   16  232  252  176    0    0    0   36  201  252  252  169   11    0    0    0    0    0    0    0    0    0 \n",
      "   0    0    0    0    0    0   22  252  252   30   22  119  197  241  253  252  251   77    0    0    0    0    0    0    0    0    0    0 \n",
      "   0    0    0    0    0    0   16  231  252  253  252  252  252  226  227  252  231    0    0    0    0    0    0    0    0    0    0    0 \n",
      "   0    0    0    0    0    0    0   55  235  253  217  138   42   24  192  252  143    0    0    0    0    0    0    0    0    0    0    0 \n",
      "   0    0    0    0    0    0    0    0    0    0    0    0    0   62  255  253  109    0    0    0    0    0    0    0    0    0    0    0 \n",
      "   0    0    0    0    0    0    0    0    0    0    0    0    0   71  253  252   21    0    0    0    0    0    0    0    0    0    0    0 \n",
      "   0    0    0    0    0    0    0    0    0    0    0    0    0    0  253  252   21    0    0    0    0    0    0    0    0    0    0    0 \n",
      "   0    0    0    0    0    0    0    0    0    0    0    0    0   71  253  252   21    0    0    0    0    0    0    0    0    0    0    0 \n",
      "   0    0    0    0    0    0    0    0    0    0    0    0    0  106  253  252   21    0    0    0    0    0    0    0    0    0    0    0 \n",
      "   0    0    0    0    0    0    0    0    0    0    0    0    0   45  255  253   21    0    0    0    0    0    0    0    0    0    0    0 \n",
      "   0    0    0    0    0    0    0    0    0    0    0    0    0    0  218  252   56    0    0    0    0    0    0    0    0    0    0    0 \n",
      "   0    0    0    0    0    0    0    0    0    0    0    0    0    0   96  252  189   42    0    0    0    0    0    0    0    0    0    0 \n",
      "   0    0    0    0    0    0    0    0    0    0    0    0    0    0   14  184  252  170   11    0    0    0    0    0    0    0    0    0 \n",
      "   0    0    0    0    0    0    0    0    0    0    0    0    0    0    0   14  147  252   42    0    0    0    0    0    0    0    0    0 \n",
      "   0    0    0    0    0    0    0    0    0    0    0    0    0    0    0    0    0    0    0    0    0    0    0    0    0    0    0    0 \n"
     ]
    }
   ],
   "source": [
    "for x in x_train[4]:\n",
    "    for i in x:\n",
    "        print('{:4} '.format(i), end='')\n",
    "    print()"
   ]
  },
  {
   "cell_type": "code",
   "execution_count": 9,
   "id": "e750a663-61a2-4ac5-8f00-46a648934b93",
   "metadata": {},
   "outputs": [],
   "source": [
    "rand_indices = np.random.permutation(60000)\n",
    "train_indices = rand_indices[0:50000]\n",
    "valid_indices = rand_indices[50000:60000]\n",
    "\n",
    "x_valid_vec = x_train_vec[valid_indices, :, :, :]\n",
    "y_valid_vec = y_train_vec[valid_indices, :]\n",
    "\n",
    "x_train_vec = x_train_vec[train_indices, :, :, :]\n",
    "y_train_vec = y_train_vec[train_indices, :]"
   ]
  },
  {
   "cell_type": "code",
   "execution_count": 10,
   "id": "a631b97c-acf3-43c2-b873-900c8feef749",
   "metadata": {},
   "outputs": [
    {
     "data": {
      "text/plain": [
       "(50000, 28, 28, 1)"
      ]
     },
     "execution_count": 10,
     "metadata": {},
     "output_type": "execute_result"
    }
   ],
   "source": [
    "x_train_vec.shape\n",
    "#y_train_vec.shape"
   ]
  },
  {
   "cell_type": "code",
   "execution_count": 11,
   "id": "5b2997b1-7ac2-4c86-9e9f-ab29216a1970",
   "metadata": {},
   "outputs": [
    {
     "name": "stderr",
     "output_type": "stream",
     "text": [
      "/home/young12/code/mnist/.venv/lib/python3.11/site-packages/keras/src/layers/convolutional/base_conv.py:107: UserWarning: Do not pass an `input_shape`/`input_dim` argument to a layer. When using Sequential models, prefer using an `Input(shape)` object as the first layer in the model instead.\n",
      "  super().__init__(activity_regularizer=activity_regularizer, **kwargs)\n"
     ]
    },
    {
     "data": {
      "text/html": [
       "<pre style=\"white-space:pre;overflow-x:auto;line-height:normal;font-family:Menlo,'DejaVu Sans Mono',consolas,'Courier New',monospace\"><span style=\"font-weight: bold\">Model: \"sequential\"</span>\n",
       "</pre>\n"
      ],
      "text/plain": [
       "\u001b[1mModel: \"sequential\"\u001b[0m\n"
      ]
     },
     "metadata": {},
     "output_type": "display_data"
    },
    {
     "data": {
      "text/html": [
       "<pre style=\"white-space:pre;overflow-x:auto;line-height:normal;font-family:Menlo,'DejaVu Sans Mono',consolas,'Courier New',monospace\">┏━━━━━━━━━━━━━━━━━━━━━━━━━━━━━━━━━┳━━━━━━━━━━━━━━━━━━━━━━━━┳━━━━━━━━━━━━━━━┓\n",
       "┃<span style=\"font-weight: bold\"> Layer (type)                    </span>┃<span style=\"font-weight: bold\"> Output Shape           </span>┃<span style=\"font-weight: bold\">       Param # </span>┃\n",
       "┡━━━━━━━━━━━━━━━━━━━━━━━━━━━━━━━━━╇━━━━━━━━━━━━━━━━━━━━━━━━╇━━━━━━━━━━━━━━━┩\n",
       "│ conv2d (<span style=\"color: #0087ff; text-decoration-color: #0087ff\">Conv2D</span>)                 │ (<span style=\"color: #00d7ff; text-decoration-color: #00d7ff\">None</span>, <span style=\"color: #00af00; text-decoration-color: #00af00\">24</span>, <span style=\"color: #00af00; text-decoration-color: #00af00\">24</span>, <span style=\"color: #00af00; text-decoration-color: #00af00\">10</span>)     │           <span style=\"color: #00af00; text-decoration-color: #00af00\">260</span> │\n",
       "├─────────────────────────────────┼────────────────────────┼───────────────┤\n",
       "│ max_pooling2d (<span style=\"color: #0087ff; text-decoration-color: #0087ff\">MaxPooling2D</span>)    │ (<span style=\"color: #00d7ff; text-decoration-color: #00d7ff\">None</span>, <span style=\"color: #00af00; text-decoration-color: #00af00\">12</span>, <span style=\"color: #00af00; text-decoration-color: #00af00\">12</span>, <span style=\"color: #00af00; text-decoration-color: #00af00\">10</span>)     │             <span style=\"color: #00af00; text-decoration-color: #00af00\">0</span> │\n",
       "├─────────────────────────────────┼────────────────────────┼───────────────┤\n",
       "│ conv2d_1 (<span style=\"color: #0087ff; text-decoration-color: #0087ff\">Conv2D</span>)               │ (<span style=\"color: #00d7ff; text-decoration-color: #00d7ff\">None</span>, <span style=\"color: #00af00; text-decoration-color: #00af00\">8</span>, <span style=\"color: #00af00; text-decoration-color: #00af00\">8</span>, <span style=\"color: #00af00; text-decoration-color: #00af00\">20</span>)       │         <span style=\"color: #00af00; text-decoration-color: #00af00\">5,020</span> │\n",
       "├─────────────────────────────────┼────────────────────────┼───────────────┤\n",
       "│ max_pooling2d_1 (<span style=\"color: #0087ff; text-decoration-color: #0087ff\">MaxPooling2D</span>)  │ (<span style=\"color: #00d7ff; text-decoration-color: #00d7ff\">None</span>, <span style=\"color: #00af00; text-decoration-color: #00af00\">4</span>, <span style=\"color: #00af00; text-decoration-color: #00af00\">4</span>, <span style=\"color: #00af00; text-decoration-color: #00af00\">20</span>)       │             <span style=\"color: #00af00; text-decoration-color: #00af00\">0</span> │\n",
       "├─────────────────────────────────┼────────────────────────┼───────────────┤\n",
       "│ flatten (<span style=\"color: #0087ff; text-decoration-color: #0087ff\">Flatten</span>)               │ (<span style=\"color: #00d7ff; text-decoration-color: #00d7ff\">None</span>, <span style=\"color: #00af00; text-decoration-color: #00af00\">320</span>)            │             <span style=\"color: #00af00; text-decoration-color: #00af00\">0</span> │\n",
       "├─────────────────────────────────┼────────────────────────┼───────────────┤\n",
       "│ dense (<span style=\"color: #0087ff; text-decoration-color: #0087ff\">Dense</span>)                   │ (<span style=\"color: #00d7ff; text-decoration-color: #00d7ff\">None</span>, <span style=\"color: #00af00; text-decoration-color: #00af00\">100</span>)            │        <span style=\"color: #00af00; text-decoration-color: #00af00\">32,100</span> │\n",
       "├─────────────────────────────────┼────────────────────────┼───────────────┤\n",
       "│ dense_1 (<span style=\"color: #0087ff; text-decoration-color: #0087ff\">Dense</span>)                 │ (<span style=\"color: #00d7ff; text-decoration-color: #00d7ff\">None</span>, <span style=\"color: #00af00; text-decoration-color: #00af00\">10</span>)             │         <span style=\"color: #00af00; text-decoration-color: #00af00\">1,010</span> │\n",
       "└─────────────────────────────────┴────────────────────────┴───────────────┘\n",
       "</pre>\n"
      ],
      "text/plain": [
       "┏━━━━━━━━━━━━━━━━━━━━━━━━━━━━━━━━━┳━━━━━━━━━━━━━━━━━━━━━━━━┳━━━━━━━━━━━━━━━┓\n",
       "┃\u001b[1m \u001b[0m\u001b[1mLayer (type)                   \u001b[0m\u001b[1m \u001b[0m┃\u001b[1m \u001b[0m\u001b[1mOutput Shape          \u001b[0m\u001b[1m \u001b[0m┃\u001b[1m \u001b[0m\u001b[1m      Param #\u001b[0m\u001b[1m \u001b[0m┃\n",
       "┡━━━━━━━━━━━━━━━━━━━━━━━━━━━━━━━━━╇━━━━━━━━━━━━━━━━━━━━━━━━╇━━━━━━━━━━━━━━━┩\n",
       "│ conv2d (\u001b[38;5;33mConv2D\u001b[0m)                 │ (\u001b[38;5;45mNone\u001b[0m, \u001b[38;5;34m24\u001b[0m, \u001b[38;5;34m24\u001b[0m, \u001b[38;5;34m10\u001b[0m)     │           \u001b[38;5;34m260\u001b[0m │\n",
       "├─────────────────────────────────┼────────────────────────┼───────────────┤\n",
       "│ max_pooling2d (\u001b[38;5;33mMaxPooling2D\u001b[0m)    │ (\u001b[38;5;45mNone\u001b[0m, \u001b[38;5;34m12\u001b[0m, \u001b[38;5;34m12\u001b[0m, \u001b[38;5;34m10\u001b[0m)     │             \u001b[38;5;34m0\u001b[0m │\n",
       "├─────────────────────────────────┼────────────────────────┼───────────────┤\n",
       "│ conv2d_1 (\u001b[38;5;33mConv2D\u001b[0m)               │ (\u001b[38;5;45mNone\u001b[0m, \u001b[38;5;34m8\u001b[0m, \u001b[38;5;34m8\u001b[0m, \u001b[38;5;34m20\u001b[0m)       │         \u001b[38;5;34m5,020\u001b[0m │\n",
       "├─────────────────────────────────┼────────────────────────┼───────────────┤\n",
       "│ max_pooling2d_1 (\u001b[38;5;33mMaxPooling2D\u001b[0m)  │ (\u001b[38;5;45mNone\u001b[0m, \u001b[38;5;34m4\u001b[0m, \u001b[38;5;34m4\u001b[0m, \u001b[38;5;34m20\u001b[0m)       │             \u001b[38;5;34m0\u001b[0m │\n",
       "├─────────────────────────────────┼────────────────────────┼───────────────┤\n",
       "│ flatten (\u001b[38;5;33mFlatten\u001b[0m)               │ (\u001b[38;5;45mNone\u001b[0m, \u001b[38;5;34m320\u001b[0m)            │             \u001b[38;5;34m0\u001b[0m │\n",
       "├─────────────────────────────────┼────────────────────────┼───────────────┤\n",
       "│ dense (\u001b[38;5;33mDense\u001b[0m)                   │ (\u001b[38;5;45mNone\u001b[0m, \u001b[38;5;34m100\u001b[0m)            │        \u001b[38;5;34m32,100\u001b[0m │\n",
       "├─────────────────────────────────┼────────────────────────┼───────────────┤\n",
       "│ dense_1 (\u001b[38;5;33mDense\u001b[0m)                 │ (\u001b[38;5;45mNone\u001b[0m, \u001b[38;5;34m10\u001b[0m)             │         \u001b[38;5;34m1,010\u001b[0m │\n",
       "└─────────────────────────────────┴────────────────────────┴───────────────┘\n"
      ]
     },
     "metadata": {},
     "output_type": "display_data"
    },
    {
     "data": {
      "text/html": [
       "<pre style=\"white-space:pre;overflow-x:auto;line-height:normal;font-family:Menlo,'DejaVu Sans Mono',consolas,'Courier New',monospace\"><span style=\"font-weight: bold\"> Total params: </span><span style=\"color: #00af00; text-decoration-color: #00af00\">38,390</span> (149.96 KB)\n",
       "</pre>\n"
      ],
      "text/plain": [
       "\u001b[1m Total params: \u001b[0m\u001b[38;5;34m38,390\u001b[0m (149.96 KB)\n"
      ]
     },
     "metadata": {},
     "output_type": "display_data"
    },
    {
     "data": {
      "text/html": [
       "<pre style=\"white-space:pre;overflow-x:auto;line-height:normal;font-family:Menlo,'DejaVu Sans Mono',consolas,'Courier New',monospace\"><span style=\"font-weight: bold\"> Trainable params: </span><span style=\"color: #00af00; text-decoration-color: #00af00\">38,390</span> (149.96 KB)\n",
       "</pre>\n"
      ],
      "text/plain": [
       "\u001b[1m Trainable params: \u001b[0m\u001b[38;5;34m38,390\u001b[0m (149.96 KB)\n"
      ]
     },
     "metadata": {},
     "output_type": "display_data"
    },
    {
     "data": {
      "text/html": [
       "<pre style=\"white-space:pre;overflow-x:auto;line-height:normal;font-family:Menlo,'DejaVu Sans Mono',consolas,'Courier New',monospace\"><span style=\"font-weight: bold\"> Non-trainable params: </span><span style=\"color: #00af00; text-decoration-color: #00af00\">0</span> (0.00 B)\n",
       "</pre>\n"
      ],
      "text/plain": [
       "\u001b[1m Non-trainable params: \u001b[0m\u001b[38;5;34m0\u001b[0m (0.00 B)\n"
      ]
     },
     "metadata": {},
     "output_type": "display_data"
    }
   ],
   "source": [
    "from keras.models import Sequential\n",
    "from keras.layers import Conv2D, MaxPooling2D, Flatten, Dense\n",
    "\n",
    "model = Sequential()\n",
    "model.add(Conv2D(filters=10, kernel_size=(5, 5), activation='relu', \n",
    "                 input_shape=(28, 28, 1)))\n",
    "model.add(MaxPooling2D(pool_size=(2,2)))\n",
    "model.add(Conv2D(filters=20, kernel_size=(5, 5), activation='relu'))\n",
    "model.add(MaxPooling2D(pool_size=(2,2)))\n",
    "model.add(Flatten())\n",
    "model.add(Dense(units=100, activation='relu'))\n",
    "model.add(Dense(units=10, activation='softmax'))\n",
    "\n",
    "model.summary()"
   ]
  },
  {
   "cell_type": "code",
   "execution_count": 12,
   "id": "52c7d5b7-e4c7-410d-8d74-f94b7e3e3ba7",
   "metadata": {},
   "outputs": [],
   "source": [
    "from keras.optimizers import RMSprop\n",
    "\n",
    "model.compile(\n",
    "    optimizer=RMSprop(learning_rate=0.0001), \n",
    "    loss='categorical_crossentropy', \n",
    "    metrics=['accuracy'])"
   ]
  },
  {
   "cell_type": "code",
   "execution_count": 13,
   "id": "ca625141-3270-465c-a581-2b9876eb5f1c",
   "metadata": {},
   "outputs": [
    {
     "name": "stdout",
     "output_type": "stream",
     "text": [
      "Epoch 1/100\n",
      "\u001b[1m391/391\u001b[0m \u001b[32m━━━━━━━━━━━━━━━━━━━━\u001b[0m\u001b[37m\u001b[0m \u001b[1m4s\u001b[0m 9ms/step - accuracy: 0.5277 - loss: 5.5464 - val_accuracy: 0.8717 - val_loss: 0.5803\n",
      "Epoch 2/100\n",
      "\u001b[1m391/391\u001b[0m \u001b[32m━━━━━━━━━━━━━━━━━━━━\u001b[0m\u001b[37m\u001b[0m \u001b[1m3s\u001b[0m 8ms/step - accuracy: 0.8943 - loss: 0.4663 - val_accuracy: 0.9223 - val_loss: 0.3244\n",
      "Epoch 3/100\n",
      "\u001b[1m391/391\u001b[0m \u001b[32m━━━━━━━━━━━━━━━━━━━━\u001b[0m\u001b[37m\u001b[0m \u001b[1m3s\u001b[0m 8ms/step - accuracy: 0.9343 - loss: 0.2572 - val_accuracy: 0.9397 - val_loss: 0.2410\n",
      "Epoch 4/100\n",
      "\u001b[1m391/391\u001b[0m \u001b[32m━━━━━━━━━━━━━━━━━━━━\u001b[0m\u001b[37m\u001b[0m \u001b[1m3s\u001b[0m 8ms/step - accuracy: 0.9502 - loss: 0.1872 - val_accuracy: 0.9518 - val_loss: 0.1853\n",
      "Epoch 5/100\n",
      "\u001b[1m391/391\u001b[0m \u001b[32m━━━━━━━━━━━━━━━━━━━━\u001b[0m\u001b[37m\u001b[0m \u001b[1m3s\u001b[0m 8ms/step - accuracy: 0.9626 - loss: 0.1354 - val_accuracy: 0.9569 - val_loss: 0.1584\n",
      "Epoch 6/100\n",
      "\u001b[1m391/391\u001b[0m \u001b[32m━━━━━━━━━━━━━━━━━━━━\u001b[0m\u001b[37m\u001b[0m \u001b[1m3s\u001b[0m 8ms/step - accuracy: 0.9702 - loss: 0.1112 - val_accuracy: 0.9592 - val_loss: 0.1553\n",
      "Epoch 7/100\n",
      "\u001b[1m391/391\u001b[0m \u001b[32m━━━━━━━━━━━━━━━━━━━━\u001b[0m\u001b[37m\u001b[0m \u001b[1m3s\u001b[0m 8ms/step - accuracy: 0.9741 - loss: 0.0904 - val_accuracy: 0.9618 - val_loss: 0.1409\n",
      "Epoch 8/100\n",
      "\u001b[1m391/391\u001b[0m \u001b[32m━━━━━━━━━━━━━━━━━━━━\u001b[0m\u001b[37m\u001b[0m \u001b[1m3s\u001b[0m 8ms/step - accuracy: 0.9780 - loss: 0.0783 - val_accuracy: 0.9634 - val_loss: 0.1307\n",
      "Epoch 9/100\n",
      "\u001b[1m391/391\u001b[0m \u001b[32m━━━━━━━━━━━━━━━━━━━━\u001b[0m\u001b[37m\u001b[0m \u001b[1m3s\u001b[0m 8ms/step - accuracy: 0.9801 - loss: 0.0691 - val_accuracy: 0.9675 - val_loss: 0.1232\n",
      "Epoch 10/100\n",
      "\u001b[1m391/391\u001b[0m \u001b[32m━━━━━━━━━━━━━━━━━━━━\u001b[0m\u001b[37m\u001b[0m \u001b[1m3s\u001b[0m 8ms/step - accuracy: 0.9824 - loss: 0.0595 - val_accuracy: 0.9695 - val_loss: 0.1077\n",
      "Epoch 11/100\n",
      "\u001b[1m391/391\u001b[0m \u001b[32m━━━━━━━━━━━━━━━━━━━━\u001b[0m\u001b[37m\u001b[0m \u001b[1m3s\u001b[0m 9ms/step - accuracy: 0.9858 - loss: 0.0506 - val_accuracy: 0.9698 - val_loss: 0.1153\n",
      "Epoch 12/100\n",
      "\u001b[1m391/391\u001b[0m \u001b[32m━━━━━━━━━━━━━━━━━━━━\u001b[0m\u001b[37m\u001b[0m \u001b[1m3s\u001b[0m 8ms/step - accuracy: 0.9887 - loss: 0.0410 - val_accuracy: 0.9718 - val_loss: 0.1063\n",
      "Epoch 13/100\n",
      "\u001b[1m391/391\u001b[0m \u001b[32m━━━━━━━━━━━━━━━━━━━━\u001b[0m\u001b[37m\u001b[0m \u001b[1m3s\u001b[0m 9ms/step - accuracy: 0.9896 - loss: 0.0375 - val_accuracy: 0.9702 - val_loss: 0.1118\n",
      "Epoch 14/100\n",
      "\u001b[1m391/391\u001b[0m \u001b[32m━━━━━━━━━━━━━━━━━━━━\u001b[0m\u001b[37m\u001b[0m \u001b[1m4s\u001b[0m 9ms/step - accuracy: 0.9897 - loss: 0.0341 - val_accuracy: 0.9726 - val_loss: 0.0991\n",
      "Epoch 15/100\n",
      "\u001b[1m391/391\u001b[0m \u001b[32m━━━━━━━━━━━━━━━━━━━━\u001b[0m\u001b[37m\u001b[0m \u001b[1m3s\u001b[0m 8ms/step - accuracy: 0.9910 - loss: 0.0325 - val_accuracy: 0.9749 - val_loss: 0.0997\n",
      "Epoch 16/100\n",
      "\u001b[1m391/391\u001b[0m \u001b[32m━━━━━━━━━━━━━━━━━━━━\u001b[0m\u001b[37m\u001b[0m \u001b[1m4s\u001b[0m 9ms/step - accuracy: 0.9933 - loss: 0.0248 - val_accuracy: 0.9758 - val_loss: 0.0947\n",
      "Epoch 17/100\n",
      "\u001b[1m391/391\u001b[0m \u001b[32m━━━━━━━━━━━━━━━━━━━━\u001b[0m\u001b[37m\u001b[0m \u001b[1m4s\u001b[0m 9ms/step - accuracy: 0.9930 - loss: 0.0237 - val_accuracy: 0.9744 - val_loss: 0.1048\n",
      "Epoch 18/100\n",
      "\u001b[1m391/391\u001b[0m \u001b[32m━━━━━━━━━━━━━━━━━━━━\u001b[0m\u001b[37m\u001b[0m \u001b[1m4s\u001b[0m 9ms/step - accuracy: 0.9940 - loss: 0.0203 - val_accuracy: 0.9760 - val_loss: 0.0985\n",
      "Epoch 19/100\n",
      "\u001b[1m391/391\u001b[0m \u001b[32m━━━━━━━━━━━━━━━━━━━━\u001b[0m\u001b[37m\u001b[0m \u001b[1m3s\u001b[0m 9ms/step - accuracy: 0.9949 - loss: 0.0167 - val_accuracy: 0.9765 - val_loss: 0.0985\n",
      "Epoch 20/100\n",
      "\u001b[1m391/391\u001b[0m \u001b[32m━━━━━━━━━━━━━━━━━━━━\u001b[0m\u001b[37m\u001b[0m \u001b[1m4s\u001b[0m 9ms/step - accuracy: 0.9950 - loss: 0.0166 - val_accuracy: 0.9778 - val_loss: 0.0940\n",
      "Epoch 21/100\n",
      "\u001b[1m391/391\u001b[0m \u001b[32m━━━━━━━━━━━━━━━━━━━━\u001b[0m\u001b[37m\u001b[0m \u001b[1m4s\u001b[0m 9ms/step - accuracy: 0.9964 - loss: 0.0136 - val_accuracy: 0.9773 - val_loss: 0.0987\n",
      "Epoch 22/100\n",
      "\u001b[1m391/391\u001b[0m \u001b[32m━━━━━━━━━━━━━━━━━━━━\u001b[0m\u001b[37m\u001b[0m \u001b[1m4s\u001b[0m 9ms/step - accuracy: 0.9968 - loss: 0.0117 - val_accuracy: 0.9758 - val_loss: 0.1106\n",
      "Epoch 23/100\n",
      "\u001b[1m391/391\u001b[0m \u001b[32m━━━━━━━━━━━━━━━━━━━━\u001b[0m\u001b[37m\u001b[0m \u001b[1m4s\u001b[0m 9ms/step - accuracy: 0.9968 - loss: 0.0112 - val_accuracy: 0.9790 - val_loss: 0.0971\n",
      "Epoch 24/100\n",
      "\u001b[1m391/391\u001b[0m \u001b[32m━━━━━━━━━━━━━━━━━━━━\u001b[0m\u001b[37m\u001b[0m \u001b[1m3s\u001b[0m 9ms/step - accuracy: 0.9978 - loss: 0.0096 - val_accuracy: 0.9786 - val_loss: 0.0994\n",
      "Epoch 25/100\n",
      "\u001b[1m391/391\u001b[0m \u001b[32m━━━━━━━━━━━━━━━━━━━━\u001b[0m\u001b[37m\u001b[0m \u001b[1m4s\u001b[0m 9ms/step - accuracy: 0.9980 - loss: 0.0078 - val_accuracy: 0.9785 - val_loss: 0.0988\n",
      "Epoch 26/100\n",
      "\u001b[1m391/391\u001b[0m \u001b[32m━━━━━━━━━━━━━━━━━━━━\u001b[0m\u001b[37m\u001b[0m \u001b[1m4s\u001b[0m 9ms/step - accuracy: 0.9984 - loss: 0.0072 - val_accuracy: 0.9790 - val_loss: 0.1045\n",
      "Epoch 27/100\n",
      "\u001b[1m391/391\u001b[0m \u001b[32m━━━━━━━━━━━━━━━━━━━━\u001b[0m\u001b[37m\u001b[0m \u001b[1m4s\u001b[0m 9ms/step - accuracy: 0.9987 - loss: 0.0058 - val_accuracy: 0.9799 - val_loss: 0.0993\n",
      "Epoch 28/100\n",
      "\u001b[1m391/391\u001b[0m \u001b[32m━━━━━━━━━━━━━━━━━━━━\u001b[0m\u001b[37m\u001b[0m \u001b[1m4s\u001b[0m 9ms/step - accuracy: 0.9988 - loss: 0.0054 - val_accuracy: 0.9801 - val_loss: 0.0999\n",
      "Epoch 29/100\n",
      "\u001b[1m391/391\u001b[0m \u001b[32m━━━━━━━━━━━━━━━━━━━━\u001b[0m\u001b[37m\u001b[0m \u001b[1m3s\u001b[0m 9ms/step - accuracy: 0.9992 - loss: 0.0042 - val_accuracy: 0.9800 - val_loss: 0.1006\n",
      "Epoch 30/100\n",
      "\u001b[1m391/391\u001b[0m \u001b[32m━━━━━━━━━━━━━━━━━━━━\u001b[0m\u001b[37m\u001b[0m \u001b[1m4s\u001b[0m 9ms/step - accuracy: 0.9994 - loss: 0.0036 - val_accuracy: 0.9798 - val_loss: 0.1014\n",
      "Epoch 31/100\n",
      "\u001b[1m391/391\u001b[0m \u001b[32m━━━━━━━━━━━━━━━━━━━━\u001b[0m\u001b[37m\u001b[0m \u001b[1m4s\u001b[0m 9ms/step - accuracy: 0.9993 - loss: 0.0031 - val_accuracy: 0.9797 - val_loss: 0.1021\n",
      "Epoch 32/100\n",
      "\u001b[1m391/391\u001b[0m \u001b[32m━━━━━━━━━━━━━━━━━━━━\u001b[0m\u001b[37m\u001b[0m \u001b[1m4s\u001b[0m 9ms/step - accuracy: 0.9995 - loss: 0.0028 - val_accuracy: 0.9803 - val_loss: 0.1056\n",
      "Epoch 33/100\n",
      "\u001b[1m391/391\u001b[0m \u001b[32m━━━━━━━━━━━━━━━━━━━━\u001b[0m\u001b[37m\u001b[0m \u001b[1m4s\u001b[0m 9ms/step - accuracy: 0.9997 - loss: 0.0020 - val_accuracy: 0.9803 - val_loss: 0.1046\n",
      "Epoch 34/100\n",
      "\u001b[1m391/391\u001b[0m \u001b[32m━━━━━━━━━━━━━━━━━━━━\u001b[0m\u001b[37m\u001b[0m \u001b[1m4s\u001b[0m 9ms/step - accuracy: 0.9998 - loss: 0.0020 - val_accuracy: 0.9811 - val_loss: 0.1075\n",
      "Epoch 35/100\n",
      "\u001b[1m391/391\u001b[0m \u001b[32m━━━━━━━━━━━━━━━━━━━━\u001b[0m\u001b[37m\u001b[0m \u001b[1m4s\u001b[0m 9ms/step - accuracy: 0.9996 - loss: 0.0017 - val_accuracy: 0.9803 - val_loss: 0.1090\n",
      "Epoch 36/100\n",
      "\u001b[1m391/391\u001b[0m \u001b[32m━━━━━━━━━━━━━━━━━━━━\u001b[0m\u001b[37m\u001b[0m \u001b[1m4s\u001b[0m 9ms/step - accuracy: 0.9997 - loss: 0.0022 - val_accuracy: 0.9812 - val_loss: 0.1071\n",
      "Epoch 37/100\n",
      "\u001b[1m391/391\u001b[0m \u001b[32m━━━━━━━━━━━━━━━━━━━━\u001b[0m\u001b[37m\u001b[0m \u001b[1m4s\u001b[0m 9ms/step - accuracy: 0.9998 - loss: 0.0012 - val_accuracy: 0.9808 - val_loss: 0.1089\n",
      "Epoch 38/100\n",
      "\u001b[1m391/391\u001b[0m \u001b[32m━━━━━━━━━━━━━━━━━━━━\u001b[0m\u001b[37m\u001b[0m \u001b[1m4s\u001b[0m 9ms/step - accuracy: 0.9999 - loss: 8.9356e-04 - val_accuracy: 0.9807 - val_loss: 0.1104\n",
      "Epoch 39/100\n",
      "\u001b[1m391/391\u001b[0m \u001b[32m━━━━━━━━━━━━━━━━━━━━\u001b[0m\u001b[37m\u001b[0m \u001b[1m4s\u001b[0m 9ms/step - accuracy: 0.9999 - loss: 9.0242e-04 - val_accuracy: 0.9812 - val_loss: 0.1072\n",
      "Epoch 40/100\n",
      "\u001b[1m391/391\u001b[0m \u001b[32m━━━━━━━━━━━━━━━━━━━━\u001b[0m\u001b[37m\u001b[0m \u001b[1m4s\u001b[0m 9ms/step - accuracy: 1.0000 - loss: 7.1000e-04 - val_accuracy: 0.9808 - val_loss: 0.1130\n",
      "Epoch 41/100\n",
      "\u001b[1m391/391\u001b[0m \u001b[32m━━━━━━━━━━━━━━━━━━━━\u001b[0m\u001b[37m\u001b[0m \u001b[1m4s\u001b[0m 9ms/step - accuracy: 0.9999 - loss: 6.4684e-04 - val_accuracy: 0.9812 - val_loss: 0.1140\n",
      "Epoch 42/100\n",
      "\u001b[1m391/391\u001b[0m \u001b[32m━━━━━━━━━━━━━━━━━━━━\u001b[0m\u001b[37m\u001b[0m \u001b[1m4s\u001b[0m 9ms/step - accuracy: 0.9999 - loss: 6.2681e-04 - val_accuracy: 0.9819 - val_loss: 0.1125\n",
      "Epoch 43/100\n",
      "\u001b[1m391/391\u001b[0m \u001b[32m━━━━━━━━━━━━━━━━━━━━\u001b[0m\u001b[37m\u001b[0m \u001b[1m4s\u001b[0m 9ms/step - accuracy: 0.9999 - loss: 5.5801e-04 - val_accuracy: 0.9817 - val_loss: 0.1152\n",
      "Epoch 44/100\n",
      "\u001b[1m391/391\u001b[0m \u001b[32m━━━━━━━━━━━━━━━━━━━━\u001b[0m\u001b[37m\u001b[0m \u001b[1m4s\u001b[0m 10ms/step - accuracy: 1.0000 - loss: 4.0063e-04 - val_accuracy: 0.9824 - val_loss: 0.1128\n",
      "Epoch 45/100\n",
      "\u001b[1m391/391\u001b[0m \u001b[32m━━━━━━━━━━━━━━━━━━━━\u001b[0m\u001b[37m\u001b[0m \u001b[1m4s\u001b[0m 11ms/step - accuracy: 1.0000 - loss: 3.6499e-04 - val_accuracy: 0.9812 - val_loss: 0.1204\n",
      "Epoch 46/100\n",
      "\u001b[1m391/391\u001b[0m \u001b[32m━━━━━━━━━━━━━━━━━━━━\u001b[0m\u001b[37m\u001b[0m \u001b[1m4s\u001b[0m 10ms/step - accuracy: 1.0000 - loss: 2.7329e-04 - val_accuracy: 0.9815 - val_loss: 0.1194\n",
      "Epoch 47/100\n",
      "\u001b[1m391/391\u001b[0m \u001b[32m━━━━━━━━━━━━━━━━━━━━\u001b[0m\u001b[37m\u001b[0m \u001b[1m4s\u001b[0m 11ms/step - accuracy: 1.0000 - loss: 2.8709e-04 - val_accuracy: 0.9815 - val_loss: 0.1203\n",
      "Epoch 48/100\n",
      "\u001b[1m391/391\u001b[0m \u001b[32m━━━━━━━━━━━━━━━━━━━━\u001b[0m\u001b[37m\u001b[0m \u001b[1m5s\u001b[0m 11ms/step - accuracy: 0.9999 - loss: 2.1778e-04 - val_accuracy: 0.9821 - val_loss: 0.1185\n",
      "Epoch 49/100\n",
      "\u001b[1m391/391\u001b[0m \u001b[32m━━━━━━━━━━━━━━━━━━━━\u001b[0m\u001b[37m\u001b[0m \u001b[1m4s\u001b[0m 10ms/step - accuracy: 1.0000 - loss: 1.2591e-04 - val_accuracy: 0.9820 - val_loss: 0.1227\n",
      "Epoch 50/100\n",
      "\u001b[1m391/391\u001b[0m \u001b[32m━━━━━━━━━━━━━━━━━━━━\u001b[0m\u001b[37m\u001b[0m \u001b[1m4s\u001b[0m 10ms/step - accuracy: 1.0000 - loss: 1.2019e-04 - val_accuracy: 0.9828 - val_loss: 0.1227\n",
      "Epoch 51/100\n",
      "\u001b[1m391/391\u001b[0m \u001b[32m━━━━━━━━━━━━━━━━━━━━\u001b[0m\u001b[37m\u001b[0m \u001b[1m4s\u001b[0m 11ms/step - accuracy: 1.0000 - loss: 1.2543e-04 - val_accuracy: 0.9823 - val_loss: 0.1236\n",
      "Epoch 52/100\n",
      "\u001b[1m391/391\u001b[0m \u001b[32m━━━━━━━━━━━━━━━━━━━━\u001b[0m\u001b[37m\u001b[0m \u001b[1m4s\u001b[0m 11ms/step - accuracy: 1.0000 - loss: 8.1981e-05 - val_accuracy: 0.9833 - val_loss: 0.1213\n",
      "Epoch 53/100\n",
      "\u001b[1m391/391\u001b[0m \u001b[32m━━━━━━━━━━━━━━━━━━━━\u001b[0m\u001b[37m\u001b[0m \u001b[1m4s\u001b[0m 10ms/step - accuracy: 1.0000 - loss: 9.3414e-05 - val_accuracy: 0.9835 - val_loss: 0.1255\n",
      "Epoch 54/100\n",
      "\u001b[1m391/391\u001b[0m \u001b[32m━━━━━━━━━━━━━━━━━━━━\u001b[0m\u001b[37m\u001b[0m \u001b[1m4s\u001b[0m 9ms/step - accuracy: 1.0000 - loss: 5.1000e-05 - val_accuracy: 0.9824 - val_loss: 0.1290\n",
      "Epoch 55/100\n",
      "\u001b[1m391/391\u001b[0m \u001b[32m━━━━━━━━━━━━━━━━━━━━\u001b[0m\u001b[37m\u001b[0m \u001b[1m4s\u001b[0m 9ms/step - accuracy: 1.0000 - loss: 3.2648e-05 - val_accuracy: 0.9835 - val_loss: 0.1309\n",
      "Epoch 56/100\n",
      "\u001b[1m391/391\u001b[0m \u001b[32m━━━━━━━━━━━━━━━━━━━━\u001b[0m\u001b[37m\u001b[0m \u001b[1m4s\u001b[0m 10ms/step - accuracy: 1.0000 - loss: 1.9397e-05 - val_accuracy: 0.9836 - val_loss: 0.1281\n",
      "Epoch 57/100\n",
      "\u001b[1m391/391\u001b[0m \u001b[32m━━━━━━━━━━━━━━━━━━━━\u001b[0m\u001b[37m\u001b[0m \u001b[1m4s\u001b[0m 9ms/step - accuracy: 1.0000 - loss: 2.2829e-05 - val_accuracy: 0.9836 - val_loss: 0.1300\n",
      "Epoch 58/100\n",
      "\u001b[1m391/391\u001b[0m \u001b[32m━━━━━━━━━━━━━━━━━━━━\u001b[0m\u001b[37m\u001b[0m \u001b[1m4s\u001b[0m 9ms/step - accuracy: 1.0000 - loss: 1.0797e-05 - val_accuracy: 0.9840 - val_loss: 0.1308\n",
      "Epoch 59/100\n",
      "\u001b[1m391/391\u001b[0m \u001b[32m━━━━━━━━━━━━━━━━━━━━\u001b[0m\u001b[37m\u001b[0m \u001b[1m4s\u001b[0m 11ms/step - accuracy: 1.0000 - loss: 8.3531e-06 - val_accuracy: 0.9830 - val_loss: 0.1332\n",
      "Epoch 60/100\n",
      "\u001b[1m391/391\u001b[0m \u001b[32m━━━━━━━━━━━━━━━━━━━━\u001b[0m\u001b[37m\u001b[0m \u001b[1m4s\u001b[0m 10ms/step - accuracy: 1.0000 - loss: 8.0375e-06 - val_accuracy: 0.9829 - val_loss: 0.1326\n",
      "Epoch 61/100\n",
      "\u001b[1m391/391\u001b[0m \u001b[32m━━━━━━━━━━━━━━━━━━━━\u001b[0m\u001b[37m\u001b[0m \u001b[1m4s\u001b[0m 10ms/step - accuracy: 1.0000 - loss: 7.2255e-06 - val_accuracy: 0.9833 - val_loss: 0.1347\n",
      "Epoch 62/100\n",
      "\u001b[1m391/391\u001b[0m \u001b[32m━━━━━━━━━━━━━━━━━━━━\u001b[0m\u001b[37m\u001b[0m \u001b[1m4s\u001b[0m 10ms/step - accuracy: 1.0000 - loss: 5.9843e-06 - val_accuracy: 0.9831 - val_loss: 0.1361\n",
      "Epoch 63/100\n",
      "\u001b[1m391/391\u001b[0m \u001b[32m━━━━━━━━━━━━━━━━━━━━\u001b[0m\u001b[37m\u001b[0m \u001b[1m4s\u001b[0m 10ms/step - accuracy: 1.0000 - loss: 5.6935e-06 - val_accuracy: 0.9836 - val_loss: 0.1373\n",
      "Epoch 64/100\n",
      "\u001b[1m391/391\u001b[0m \u001b[32m━━━━━━━━━━━━━━━━━━━━\u001b[0m\u001b[37m\u001b[0m \u001b[1m4s\u001b[0m 10ms/step - accuracy: 1.0000 - loss: 5.2282e-06 - val_accuracy: 0.9835 - val_loss: 0.1387\n",
      "Epoch 65/100\n",
      "\u001b[1m391/391\u001b[0m \u001b[32m━━━━━━━━━━━━━━━━━━━━\u001b[0m\u001b[37m\u001b[0m \u001b[1m4s\u001b[0m 9ms/step - accuracy: 1.0000 - loss: 4.5971e-06 - val_accuracy: 0.9833 - val_loss: 0.1384\n",
      "Epoch 66/100\n",
      "\u001b[1m391/391\u001b[0m \u001b[32m━━━━━━━━━━━━━━━━━━━━\u001b[0m\u001b[37m\u001b[0m \u001b[1m4s\u001b[0m 10ms/step - accuracy: 1.0000 - loss: 4.3855e-06 - val_accuracy: 0.9833 - val_loss: 0.1392\n",
      "Epoch 67/100\n",
      "\u001b[1m391/391\u001b[0m \u001b[32m━━━━━━━━━━━━━━━━━━━━\u001b[0m\u001b[37m\u001b[0m \u001b[1m4s\u001b[0m 9ms/step - accuracy: 1.0000 - loss: 4.1587e-06 - val_accuracy: 0.9835 - val_loss: 0.1399\n",
      "Epoch 68/100\n",
      "\u001b[1m391/391\u001b[0m \u001b[32m━━━━━━━━━━━━━━━━━━━━\u001b[0m\u001b[37m\u001b[0m \u001b[1m4s\u001b[0m 10ms/step - accuracy: 1.0000 - loss: 3.8595e-06 - val_accuracy: 0.9835 - val_loss: 0.1415\n",
      "Epoch 69/100\n",
      "\u001b[1m391/391\u001b[0m \u001b[32m━━━━━━━━━━━━━━━━━━━━\u001b[0m\u001b[37m\u001b[0m \u001b[1m4s\u001b[0m 10ms/step - accuracy: 1.0000 - loss: 3.6439e-06 - val_accuracy: 0.9840 - val_loss: 0.1407\n",
      "Epoch 70/100\n",
      "\u001b[1m391/391\u001b[0m \u001b[32m━━━━━━━━━━━━━━━━━━━━\u001b[0m\u001b[37m\u001b[0m \u001b[1m4s\u001b[0m 10ms/step - accuracy: 1.0000 - loss: 3.4626e-06 - val_accuracy: 0.9837 - val_loss: 0.1414\n",
      "Epoch 71/100\n",
      "\u001b[1m391/391\u001b[0m \u001b[32m━━━━━━━━━━━━━━━━━━━━\u001b[0m\u001b[37m\u001b[0m \u001b[1m4s\u001b[0m 9ms/step - accuracy: 1.0000 - loss: 3.1727e-06 - val_accuracy: 0.9837 - val_loss: 0.1419\n",
      "Epoch 72/100\n",
      "\u001b[1m391/391\u001b[0m \u001b[32m━━━━━━━━━━━━━━━━━━━━\u001b[0m\u001b[37m\u001b[0m \u001b[1m4s\u001b[0m 10ms/step - accuracy: 1.0000 - loss: 3.1630e-06 - val_accuracy: 0.9836 - val_loss: 0.1434\n",
      "Epoch 73/100\n",
      "\u001b[1m391/391\u001b[0m \u001b[32m━━━━━━━━━━━━━━━━━━━━\u001b[0m\u001b[37m\u001b[0m \u001b[1m4s\u001b[0m 10ms/step - accuracy: 1.0000 - loss: 2.9231e-06 - val_accuracy: 0.9838 - val_loss: 0.1431\n",
      "Epoch 74/100\n",
      "\u001b[1m391/391\u001b[0m \u001b[32m━━━━━━━━━━━━━━━━━━━━\u001b[0m\u001b[37m\u001b[0m \u001b[1m4s\u001b[0m 10ms/step - accuracy: 1.0000 - loss: 2.7562e-06 - val_accuracy: 0.9839 - val_loss: 0.1436\n",
      "Epoch 75/100\n",
      "\u001b[1m391/391\u001b[0m \u001b[32m━━━━━━━━━━━━━━━━━━━━\u001b[0m\u001b[37m\u001b[0m \u001b[1m4s\u001b[0m 10ms/step - accuracy: 1.0000 - loss: 2.8142e-06 - val_accuracy: 0.9835 - val_loss: 0.1436\n",
      "Epoch 76/100\n",
      "\u001b[1m391/391\u001b[0m \u001b[32m━━━━━━━━━━━━━━━━━━━━\u001b[0m\u001b[37m\u001b[0m \u001b[1m4s\u001b[0m 10ms/step - accuracy: 1.0000 - loss: 2.6703e-06 - val_accuracy: 0.9838 - val_loss: 0.1443\n",
      "Epoch 77/100\n",
      "\u001b[1m391/391\u001b[0m \u001b[32m━━━━━━━━━━━━━━━━━━━━\u001b[0m\u001b[37m\u001b[0m \u001b[1m4s\u001b[0m 10ms/step - accuracy: 1.0000 - loss: 2.4898e-06 - val_accuracy: 0.9836 - val_loss: 0.1448\n",
      "Epoch 78/100\n",
      "\u001b[1m391/391\u001b[0m \u001b[32m━━━━━━━━━━━━━━━━━━━━\u001b[0m\u001b[37m\u001b[0m \u001b[1m4s\u001b[0m 10ms/step - accuracy: 1.0000 - loss: 2.3918e-06 - val_accuracy: 0.9838 - val_loss: 0.1446\n",
      "Epoch 79/100\n",
      "\u001b[1m391/391\u001b[0m \u001b[32m━━━━━━━━━━━━━━━━━━━━\u001b[0m\u001b[37m\u001b[0m \u001b[1m4s\u001b[0m 10ms/step - accuracy: 1.0000 - loss: 2.4416e-06 - val_accuracy: 0.9835 - val_loss: 0.1452\n",
      "Epoch 80/100\n",
      "\u001b[1m391/391\u001b[0m \u001b[32m━━━━━━━━━━━━━━━━━━━━\u001b[0m\u001b[37m\u001b[0m \u001b[1m4s\u001b[0m 10ms/step - accuracy: 1.0000 - loss: 2.2750e-06 - val_accuracy: 0.9836 - val_loss: 0.1454\n",
      "Epoch 81/100\n",
      "\u001b[1m391/391\u001b[0m \u001b[32m━━━━━━━━━━━━━━━━━━━━\u001b[0m\u001b[37m\u001b[0m \u001b[1m4s\u001b[0m 10ms/step - accuracy: 1.0000 - loss: 1.9874e-06 - val_accuracy: 0.9834 - val_loss: 0.1458\n",
      "Epoch 82/100\n",
      "\u001b[1m391/391\u001b[0m \u001b[32m━━━━━━━━━━━━━━━━━━━━\u001b[0m\u001b[37m\u001b[0m \u001b[1m4s\u001b[0m 10ms/step - accuracy: 1.0000 - loss: 2.0795e-06 - val_accuracy: 0.9837 - val_loss: 0.1458\n",
      "Epoch 83/100\n",
      "\u001b[1m391/391\u001b[0m \u001b[32m━━━━━━━━━━━━━━━━━━━━\u001b[0m\u001b[37m\u001b[0m \u001b[1m4s\u001b[0m 10ms/step - accuracy: 1.0000 - loss: 1.9309e-06 - val_accuracy: 0.9836 - val_loss: 0.1466\n",
      "Epoch 84/100\n",
      "\u001b[1m391/391\u001b[0m \u001b[32m━━━━━━━━━━━━━━━━━━━━\u001b[0m\u001b[37m\u001b[0m \u001b[1m4s\u001b[0m 10ms/step - accuracy: 1.0000 - loss: 2.0324e-06 - val_accuracy: 0.9838 - val_loss: 0.1466\n",
      "Epoch 85/100\n",
      "\u001b[1m391/391\u001b[0m \u001b[32m━━━━━━━━━━━━━━━━━━━━\u001b[0m\u001b[37m\u001b[0m \u001b[1m4s\u001b[0m 10ms/step - accuracy: 1.0000 - loss: 1.8561e-06 - val_accuracy: 0.9838 - val_loss: 0.1472\n",
      "Epoch 86/100\n",
      "\u001b[1m391/391\u001b[0m \u001b[32m━━━━━━━━━━━━━━━━━━━━\u001b[0m\u001b[37m\u001b[0m \u001b[1m4s\u001b[0m 10ms/step - accuracy: 1.0000 - loss: 1.8768e-06 - val_accuracy: 0.9837 - val_loss: 0.1481\n",
      "Epoch 87/100\n",
      "\u001b[1m391/391\u001b[0m \u001b[32m━━━━━━━━━━━━━━━━━━━━\u001b[0m\u001b[37m\u001b[0m \u001b[1m4s\u001b[0m 10ms/step - accuracy: 1.0000 - loss: 1.7141e-06 - val_accuracy: 0.9838 - val_loss: 0.1475\n",
      "Epoch 88/100\n",
      "\u001b[1m391/391\u001b[0m \u001b[32m━━━━━━━━━━━━━━━━━━━━\u001b[0m\u001b[37m\u001b[0m \u001b[1m4s\u001b[0m 10ms/step - accuracy: 1.0000 - loss: 1.7869e-06 - val_accuracy: 0.9838 - val_loss: 0.1478\n",
      "Epoch 89/100\n",
      "\u001b[1m391/391\u001b[0m \u001b[32m━━━━━━━━━━━━━━━━━━━━\u001b[0m\u001b[37m\u001b[0m \u001b[1m4s\u001b[0m 10ms/step - accuracy: 1.0000 - loss: 1.6677e-06 - val_accuracy: 0.9838 - val_loss: 0.1483\n",
      "Epoch 90/100\n",
      "\u001b[1m391/391\u001b[0m \u001b[32m━━━━━━━━━━━━━━━━━━━━\u001b[0m\u001b[37m\u001b[0m \u001b[1m4s\u001b[0m 10ms/step - accuracy: 1.0000 - loss: 1.6312e-06 - val_accuracy: 0.9839 - val_loss: 0.1487\n",
      "Epoch 91/100\n",
      "\u001b[1m391/391\u001b[0m \u001b[32m━━━━━━━━━━━━━━━━━━━━\u001b[0m\u001b[37m\u001b[0m \u001b[1m4s\u001b[0m 10ms/step - accuracy: 1.0000 - loss: 1.5418e-06 - val_accuracy: 0.9833 - val_loss: 0.1491\n",
      "Epoch 92/100\n",
      "\u001b[1m391/391\u001b[0m \u001b[32m━━━━━━━━━━━━━━━━━━━━\u001b[0m\u001b[37m\u001b[0m \u001b[1m5s\u001b[0m 13ms/step - accuracy: 1.0000 - loss: 1.6002e-06 - val_accuracy: 0.9834 - val_loss: 0.1488\n",
      "Epoch 93/100\n",
      "\u001b[1m391/391\u001b[0m \u001b[32m━━━━━━━━━━━━━━━━━━━━\u001b[0m\u001b[37m\u001b[0m \u001b[1m5s\u001b[0m 13ms/step - accuracy: 1.0000 - loss: 1.5830e-06 - val_accuracy: 0.9840 - val_loss: 0.1498\n",
      "Epoch 94/100\n",
      "\u001b[1m391/391\u001b[0m \u001b[32m━━━━━━━━━━━━━━━━━━━━\u001b[0m\u001b[37m\u001b[0m \u001b[1m4s\u001b[0m 11ms/step - accuracy: 1.0000 - loss: 1.4678e-06 - val_accuracy: 0.9839 - val_loss: 0.1497\n",
      "Epoch 95/100\n",
      "\u001b[1m391/391\u001b[0m \u001b[32m━━━━━━━━━━━━━━━━━━━━\u001b[0m\u001b[37m\u001b[0m \u001b[1m4s\u001b[0m 11ms/step - accuracy: 1.0000 - loss: 1.5212e-06 - val_accuracy: 0.9836 - val_loss: 0.1502\n",
      "Epoch 96/100\n",
      "\u001b[1m391/391\u001b[0m \u001b[32m━━━━━━━━━━━━━━━━━━━━\u001b[0m\u001b[37m\u001b[0m \u001b[1m5s\u001b[0m 13ms/step - accuracy: 1.0000 - loss: 1.4169e-06 - val_accuracy: 0.9834 - val_loss: 0.1495\n",
      "Epoch 97/100\n",
      "\u001b[1m391/391\u001b[0m \u001b[32m━━━━━━━━━━━━━━━━━━━━\u001b[0m\u001b[37m\u001b[0m \u001b[1m5s\u001b[0m 12ms/step - accuracy: 1.0000 - loss: 1.3635e-06 - val_accuracy: 0.9838 - val_loss: 0.1503\n",
      "Epoch 98/100\n",
      "\u001b[1m391/391\u001b[0m \u001b[32m━━━━━━━━━━━━━━━━━━━━\u001b[0m\u001b[37m\u001b[0m \u001b[1m4s\u001b[0m 11ms/step - accuracy: 1.0000 - loss: 1.3278e-06 - val_accuracy: 0.9838 - val_loss: 0.1499\n",
      "Epoch 99/100\n",
      "\u001b[1m391/391\u001b[0m \u001b[32m━━━━━━━━━━━━━━━━━━━━\u001b[0m\u001b[37m\u001b[0m \u001b[1m4s\u001b[0m 10ms/step - accuracy: 1.0000 - loss: 1.3397e-06 - val_accuracy: 0.9838 - val_loss: 0.1509\n",
      "Epoch 100/100\n",
      "\u001b[1m391/391\u001b[0m \u001b[32m━━━━━━━━━━━━━━━━━━━━\u001b[0m\u001b[37m\u001b[0m \u001b[1m4s\u001b[0m 11ms/step - accuracy: 1.0000 - loss: 1.2915e-06 - val_accuracy: 0.9839 - val_loss: 0.1509\n"
     ]
    }
   ],
   "source": [
    "history = model.fit(x_train_vec, y_train_vec,\n",
    "        batch_size=128,\n",
    "        epochs=100,\n",
    "        validation_data=(x_valid_vec,\n",
    "                         y_valid_vec)\n",
    "        )"
   ]
  },
  {
   "cell_type": "code",
   "execution_count": 14,
   "id": "af468325-87b6-45ab-a59b-f54ae56b298e",
   "metadata": {},
   "outputs": [
    {
     "data": {
      "image/png": "[encoded data removed]",
      "text/plain": [
       "<Figure size 640x480 with 1 Axes>"
      ]
     },
     "metadata": {},
     "output_type": "display_data"
    }
   ],
   "source": [
    "import matplotlib.pyplot as plt\n",
    "import numpy as np\n",
    "\n",
    "epoch = np.arange(len(history.history['accuracy']))\n",
    "train_acc = history.history['accuracy']\n",
    "valid_acc = history.history['val_accuracy']\n",
    "\n",
    "plt.plot(epoch, train_acc, 'bo', label='train acc')\n",
    "plt.plot(epoch, valid_acc, 'red', label='val acc')\n",
    "plt.xlabel('epoch')\n",
    "plt.ylabel('accuracy')\n",
    "plt.show()"
   ]
  },
  {
   "cell_type": "code",
   "execution_count": 15,
   "id": "5aa48205-07db-4ec3-b986-f0e632f3d02e",
   "metadata": {},
   "outputs": [
    {
     "name": "stdout",
     "output_type": "stream",
     "text": [
      "\u001b[1m313/313\u001b[0m \u001b[32m━━━━━━━━━━━━━━━━━━━━\u001b[0m\u001b[37m\u001b[0m \u001b[1m1s\u001b[0m 2ms/step - accuracy: 0.9801 - loss: 0.1658\n",
      "Loss = 0.12222718447446823\n",
      "Accuracy = 0.9847999811172485\n"
     ]
    }
   ],
   "source": [
    "r = model.evaluate(x_test_vec, y_test_vec)\n",
    "\n",
    "print('Loss =', str(r[0]))\n",
    "print('Accuracy =', str(r[1]))"
   ]
  },
  {
   "cell_type": "code",
   "execution_count": 16,
   "id": "72d5abb6-9f95-4f86-8c02-29b866cab6bd",
   "metadata": {},
   "outputs": [],
   "source": [
    "model.save('mnist984.keras')"
   ]
  },
  {
   "cell_type": "code",
   "execution_count": null,
   "id": "1ccb7639-7888-4378-92a2-8a7b446e5cc1",
   "metadata": {},
   "outputs": [],
   "source": []
  }
 ],
 "metadata": {
  "kernelspec": {
   "display_name": "Python 3 (ipykernel)",
   "language": "python",
   "name": "python3"
  },
  "language_info": {
   "codemirror_mode": {
    "name": "ipython",
    "version": 3
   },
   "file_extension": ".py",
   "mimetype": "text/x-python",
   "name": "python",
   "nbconvert_exporter": "python",
   "pygments_lexer": "ipython3",
   "version": "3.11.9"
  }
 },
 "nbformat": 4,
 "nbformat_minor": 5
}
